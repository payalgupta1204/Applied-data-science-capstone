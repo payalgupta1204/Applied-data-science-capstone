{
 "cells": [
  {
   "cell_type": "markdown",
   "metadata": {},
   "source": [
    "# Problem Description"
   ]
  },
  {
   "cell_type": "markdown",
   "metadata": {},
   "source": [
    "Companies like Netflix, Youtube, Amazon etc., leverage reccomedation systems to help users discover new and relevant items (movies, videos, music, products), creating a delightful user experience while driving incremental revenue.\n",
    "\n",
    "Most recommender systems are typically classified into two broad categories- \n",
    "1. Contend Based\n",
    "2. Collaborative filtering\n",
    "\n",
    "However, complex algorithms can implement both approaches. Content-based methods leverge similarity of item attributes while collaborative based approach make used of similarity among users/interactions.\n",
    "\n",
    "Here we implement a recommender system for restaurants using user-based collaborative filtering approach. Food application companies such as Hungrygowhere, Zomato, Grab can leverage such system to provide explicit range of restaurants based on customer's previous choices and interests."
   ]
  },
  {
   "cell_type": "markdown",
   "metadata": {},
   "source": [
    "# Data Description"
   ]
  },
  {
   "cell_type": "markdown",
   "metadata": {},
   "source": [
    "Here I have use Toronto neighborhood data with geolocation information, which I scraped from wikipedia in the last week's assignment. I am using only those neighborhood areas which are inside Boroughs containing 'Toronto' in it. \n",
    "\n",
    "For all these neighborhoods, I extracted nearby Restaurants within the radius of 5kms using Foursquare api. So, we hve in total 20 restaurants. I also created unique ids for each restaurant for later reference using uuid.\n",
    "Restaurant data comprise of : Restaurant id, Category, Geolocation, Neighborhood information.\n",
    "\n",
    "For rating data, I used a random dataset of 1000 users who provided 5- star ratings to these restaurants.\n",
    "\n",
    "Rating data comprise of User Id, Restarant id, rating and timestamp information."
   ]
  },
  {
   "cell_type": "markdown",
   "metadata": {},
   "source": [
    "# Implementation"
   ]
  },
  {
   "cell_type": "markdown",
   "metadata": {},
   "source": [
    "## Import libraries"
   ]
  },
  {
   "cell_type": "code",
   "execution_count": 87,
   "metadata": {
    "ExecuteTime": {
     "end_time": "2020-05-30T18:10:53.707157Z",
     "start_time": "2020-05-30T18:10:53.702157Z"
    }
   },
   "outputs": [],
   "source": [
    "import numpy as np \n",
    "import pandas as pd \n",
    "import re\n",
    "import seaborn as sns\n",
    "import matplotlib.pyplot as plt\n",
    "from sklearn.model_selection import train_test_split"
   ]
  },
  {
   "cell_type": "markdown",
   "metadata": {},
   "source": [
    "## Load dataset"
   ]
  },
  {
   "cell_type": "code",
   "execution_count": 88,
   "metadata": {
    "ExecuteTime": {
     "end_time": "2020-05-30T18:10:54.854155Z",
     "start_time": "2020-05-30T18:10:54.832156Z"
    }
   },
   "outputs": [],
   "source": [
    "users = pd.read_csv(r'data\\rating.csv')\n",
    "restaurants = pd.read_csv(r'data\\restaurants.csv')"
   ]
  },
  {
   "cell_type": "code",
   "execution_count": 89,
   "metadata": {
    "ExecuteTime": {
     "end_time": "2020-05-30T18:10:55.811155Z",
     "start_time": "2020-05-30T18:10:55.800155Z"
    }
   },
   "outputs": [
    {
     "data": {
      "text/plain": [
       "Unnamed: 0                                                  12\n",
       "Neighborhood                         Regent Park, Harbourfront\n",
       "Neighborhood Latitude                                  43.6543\n",
       "Neighborhood Longitude                                -79.3606\n",
       "Venue                                   Rol San Restaurant 龍笙棧\n",
       "Venue Latitude                                         43.6543\n",
       "Venue Longitude                                       -79.3986\n",
       "categories                                  Dim Sum Restaurant\n",
       "Id                        7c0e3d24-2e32-4bf9-8035-d83912896a5d\n",
       "Name: 12, dtype: object"
      ]
     },
     "execution_count": 89,
     "metadata": {},
     "output_type": "execute_result"
    }
   ],
   "source": [
    "restaurants.loc[12,:]"
   ]
  },
  {
   "cell_type": "code",
   "execution_count": 90,
   "metadata": {
    "ExecuteTime": {
     "end_time": "2020-05-30T18:10:56.770156Z",
     "start_time": "2020-05-30T18:10:56.766153Z"
    }
   },
   "outputs": [],
   "source": [
    "#Clean Venue column and remove unwanted characters\n",
    "restaurants['Venue'] = restaurants['Venue'].str.replace('[^a-zA-Z.*\\s]', '')"
   ]
  },
  {
   "cell_type": "markdown",
   "metadata": {},
   "source": [
    "## Exploratory analysis"
   ]
  },
  {
   "cell_type": "code",
   "execution_count": 91,
   "metadata": {
    "ExecuteTime": {
     "end_time": "2020-05-30T18:10:57.971154Z",
     "start_time": "2020-05-30T18:10:57.955159Z"
    }
   },
   "outputs": [],
   "source": [
    "#Join restaurant id with user table\n",
    "\n",
    "df_rest = restaurants[['Id', 'Venue']].set_index('Id')\n",
    "\n",
    "df = users.join(df_rest, how = 'left', on = 'restaurant_id')"
   ]
  },
  {
   "cell_type": "code",
   "execution_count": 92,
   "metadata": {
    "ExecuteTime": {
     "end_time": "2020-05-30T18:10:59.062154Z",
     "start_time": "2020-05-30T18:10:59.054157Z"
    }
   },
   "outputs": [],
   "source": [
    "df_users = users[['userId','restaurant_id', 'rating', 'timestamp']]"
   ]
  },
  {
   "cell_type": "code",
   "execution_count": 93,
   "metadata": {
    "ExecuteTime": {
     "end_time": "2020-05-30T18:11:00.046154Z",
     "start_time": "2020-05-30T18:11:00.038154Z"
    }
   },
   "outputs": [],
   "source": [
    "train_data, test_data = train_test_split(df_users, test_size = 0.2)"
   ]
  },
  {
   "cell_type": "code",
   "execution_count": 94,
   "metadata": {
    "ExecuteTime": {
     "end_time": "2020-05-30T18:11:01.039157Z",
     "start_time": "2020-05-30T18:11:01.030154Z"
    }
   },
   "outputs": [
    {
     "name": "stdout",
     "output_type": "stream",
     "text": [
      "Number of unique users: 791\n",
      "Number of unique venues: 20\n"
     ]
    }
   ],
   "source": [
    "n_users = train_data.userId.unique().shape[0]\n",
    "n_items = train_data.restaurant_id.unique().shape[0]\n",
    "\n",
    "print('Number of unique users: {}'.format(n_users))\n",
    "print('Number of unique venues: {}'.format(n_items))"
   ]
  },
  {
   "cell_type": "code",
   "execution_count": 95,
   "metadata": {
    "ExecuteTime": {
     "end_time": "2020-05-30T18:11:02.405487Z",
     "start_time": "2020-05-30T18:11:02.398491Z"
    }
   },
   "outputs": [
    {
     "name": "stdout",
     "output_type": "stream",
     "text": [
      "Avg Number of ratings per reviewer 1.011378002528445\n"
     ]
    }
   ],
   "source": [
    "avg_num_reviews = train_data.groupby('userId')['rating'].count()\n",
    "print(\"Avg Number of ratings per reviewer {}\".format(avg_num_reviews.mean()))"
   ]
  },
  {
   "cell_type": "code",
   "execution_count": 96,
   "metadata": {
    "ExecuteTime": {
     "end_time": "2020-05-30T18:11:06.508620Z",
     "start_time": "2020-05-30T18:11:06.229587Z"
    }
   },
   "outputs": [
    {
     "data": {
      "text/plain": [
       "Text(0, 0.5, 'number of reviewers')"
      ]
     },
     "execution_count": 96,
     "metadata": {},
     "output_type": "execute_result"
    },
    {
     "data": {
      "image/png": "[encoded data removed]",
      "text/plain": [
       "<Figure size 432x288 with 1 Axes>"
      ]
     },
     "metadata": {
      "needs_background": "light"
     },
     "output_type": "display_data"
    }
   ],
   "source": [
    "mean_rating_of_user = train_data.groupby('userId').apply(lambda x: x['rating'].mean())\n",
    "\n",
    "fig = plt.figure(figsize=(6,4))\n",
    "ax  = fig.add_subplot(111)\n",
    "ax.hist(mean_rating_of_user)\n",
    "ax.set_xlabel('mean rating given by each reviewer', fontsize=13)\n",
    "ax.set_ylabel('number of reviewers', fontsize=13)"
   ]
  },
  {
   "cell_type": "markdown",
   "metadata": {},
   "source": [
    "## Create user-item matrix"
   ]
  },
  {
   "cell_type": "code",
   "execution_count": 97,
   "metadata": {
    "ExecuteTime": {
     "end_time": "2020-05-30T18:11:10.382379Z",
     "start_time": "2020-05-30T18:11:10.307379Z"
    }
   },
   "outputs": [
    {
     "data": {
      "text/html": [
       "<div>\n",
       "<style scoped>\n",
       "    .dataframe tbody tr th:only-of-type {\n",
       "        vertical-align: middle;\n",
       "    }\n",
       "\n",
       "    .dataframe tbody tr th {\n",
       "        vertical-align: top;\n",
       "    }\n",
       "\n",
       "    .dataframe thead th {\n",
       "        text-align: right;\n",
       "    }\n",
       "</style>\n",
       "<table border=\"1\" class=\"dataframe\">\n",
       "  <thead>\n",
       "    <tr style=\"text-align: right;\">\n",
       "      <th>restaurant_id</th>\n",
       "      <th>3a6eaef3-8cd8-411f-8e25-1badf8eac70a</th>\n",
       "      <th>4593135c-d4cb-4109-8ec8-8bb8552defa1</th>\n",
       "      <th>47566a74-7f4a-48cc-8e8b-1aefcfca6ff0</th>\n",
       "      <th>4c872944-34db-4dce-b725-4b3b4c941943</th>\n",
       "      <th>4f8e488c-cba3-48f2-a1b0-c3104adb8710</th>\n",
       "      <th>51fd086f-22ec-4688-bef9-136a9aa67fa5</th>\n",
       "      <th>7340d575-7000-4dcf-b651-7c7fcb84db2a</th>\n",
       "      <th>7c0e3d24-2e32-4bf9-8035-d83912896a5d</th>\n",
       "      <th>9a7fb283-c645-4c15-8a0d-f6d8e02d511a</th>\n",
       "      <th>a1d32461-3e7c-4158-9cd6-f3cd22a79ca4</th>\n",
       "      <th>a6f9ed8e-bdea-4226-9aaa-c8f2756d1eda</th>\n",
       "      <th>a701267d-e2a8-4732-add7-fdd7b235d7df</th>\n",
       "      <th>b1827b90-186c-4c7d-8853-a7c07cde5129</th>\n",
       "      <th>c0f1a93f-c24c-410a-9437-ba573de83b7b</th>\n",
       "      <th>cc46c000-4ae5-463e-a2ba-9d4217622b88</th>\n",
       "      <th>e150bd06-feb4-4453-9ff0-6f633b4d2dcd</th>\n",
       "      <th>e23816a3-c3ee-476d-8a6f-b76300d94576</th>\n",
       "      <th>e261ec34-1ae9-4d99-a963-62af7f3eaaf0</th>\n",
       "      <th>f0af355c-7a46-4f9f-b103-580b3e455b0e</th>\n",
       "      <th>f4d5566e-0e3b-41ca-b9a7-efc027faa0f3</th>\n",
       "    </tr>\n",
       "    <tr>\n",
       "      <th>userId</th>\n",
       "      <th></th>\n",
       "      <th></th>\n",
       "      <th></th>\n",
       "      <th></th>\n",
       "      <th></th>\n",
       "      <th></th>\n",
       "      <th></th>\n",
       "      <th></th>\n",
       "      <th></th>\n",
       "      <th></th>\n",
       "      <th></th>\n",
       "      <th></th>\n",
       "      <th></th>\n",
       "      <th></th>\n",
       "      <th></th>\n",
       "      <th></th>\n",
       "      <th></th>\n",
       "      <th></th>\n",
       "      <th></th>\n",
       "      <th></th>\n",
       "    </tr>\n",
       "  </thead>\n",
       "  <tbody>\n",
       "    <tr>\n",
       "      <th>256</th>\n",
       "      <td>NaN</td>\n",
       "      <td>NaN</td>\n",
       "      <td>NaN</td>\n",
       "      <td>NaN</td>\n",
       "      <td>NaN</td>\n",
       "      <td>NaN</td>\n",
       "      <td>NaN</td>\n",
       "      <td>NaN</td>\n",
       "      <td>NaN</td>\n",
       "      <td>NaN</td>\n",
       "      <td>NaN</td>\n",
       "      <td>NaN</td>\n",
       "      <td>NaN</td>\n",
       "      <td>3.0</td>\n",
       "      <td>NaN</td>\n",
       "      <td>NaN</td>\n",
       "      <td>NaN</td>\n",
       "      <td>NaN</td>\n",
       "      <td>NaN</td>\n",
       "      <td>NaN</td>\n",
       "    </tr>\n",
       "    <tr>\n",
       "      <th>326</th>\n",
       "      <td>NaN</td>\n",
       "      <td>NaN</td>\n",
       "      <td>NaN</td>\n",
       "      <td>NaN</td>\n",
       "      <td>NaN</td>\n",
       "      <td>NaN</td>\n",
       "      <td>NaN</td>\n",
       "      <td>NaN</td>\n",
       "      <td>NaN</td>\n",
       "      <td>4.0</td>\n",
       "      <td>NaN</td>\n",
       "      <td>NaN</td>\n",
       "      <td>NaN</td>\n",
       "      <td>NaN</td>\n",
       "      <td>NaN</td>\n",
       "      <td>NaN</td>\n",
       "      <td>NaN</td>\n",
       "      <td>NaN</td>\n",
       "      <td>NaN</td>\n",
       "      <td>NaN</td>\n",
       "    </tr>\n",
       "    <tr>\n",
       "      <th>1220</th>\n",
       "      <td>NaN</td>\n",
       "      <td>NaN</td>\n",
       "      <td>NaN</td>\n",
       "      <td>NaN</td>\n",
       "      <td>NaN</td>\n",
       "      <td>5.0</td>\n",
       "      <td>NaN</td>\n",
       "      <td>NaN</td>\n",
       "      <td>NaN</td>\n",
       "      <td>NaN</td>\n",
       "      <td>NaN</td>\n",
       "      <td>NaN</td>\n",
       "      <td>NaN</td>\n",
       "      <td>NaN</td>\n",
       "      <td>NaN</td>\n",
       "      <td>NaN</td>\n",
       "      <td>NaN</td>\n",
       "      <td>NaN</td>\n",
       "      <td>NaN</td>\n",
       "      <td>NaN</td>\n",
       "    </tr>\n",
       "    <tr>\n",
       "      <th>1281</th>\n",
       "      <td>3.5</td>\n",
       "      <td>NaN</td>\n",
       "      <td>NaN</td>\n",
       "      <td>NaN</td>\n",
       "      <td>NaN</td>\n",
       "      <td>NaN</td>\n",
       "      <td>NaN</td>\n",
       "      <td>NaN</td>\n",
       "      <td>NaN</td>\n",
       "      <td>NaN</td>\n",
       "      <td>NaN</td>\n",
       "      <td>NaN</td>\n",
       "      <td>NaN</td>\n",
       "      <td>NaN</td>\n",
       "      <td>NaN</td>\n",
       "      <td>NaN</td>\n",
       "      <td>NaN</td>\n",
       "      <td>NaN</td>\n",
       "      <td>NaN</td>\n",
       "      <td>NaN</td>\n",
       "    </tr>\n",
       "    <tr>\n",
       "      <th>1290</th>\n",
       "      <td>NaN</td>\n",
       "      <td>NaN</td>\n",
       "      <td>NaN</td>\n",
       "      <td>NaN</td>\n",
       "      <td>NaN</td>\n",
       "      <td>NaN</td>\n",
       "      <td>NaN</td>\n",
       "      <td>3.5</td>\n",
       "      <td>NaN</td>\n",
       "      <td>NaN</td>\n",
       "      <td>NaN</td>\n",
       "      <td>NaN</td>\n",
       "      <td>NaN</td>\n",
       "      <td>NaN</td>\n",
       "      <td>NaN</td>\n",
       "      <td>NaN</td>\n",
       "      <td>NaN</td>\n",
       "      <td>NaN</td>\n",
       "      <td>NaN</td>\n",
       "      <td>NaN</td>\n",
       "    </tr>\n",
       "  </tbody>\n",
       "</table>\n",
       "</div>"
      ],
      "text/plain": [
       "restaurant_id  3a6eaef3-8cd8-411f-8e25-1badf8eac70a  \\\n",
       "userId                                                \n",
       "256                                             NaN   \n",
       "326                                             NaN   \n",
       "1220                                            NaN   \n",
       "1281                                            3.5   \n",
       "1290                                            NaN   \n",
       "\n",
       "restaurant_id  4593135c-d4cb-4109-8ec8-8bb8552defa1  \\\n",
       "userId                                                \n",
       "256                                             NaN   \n",
       "326                                             NaN   \n",
       "1220                                            NaN   \n",
       "1281                                            NaN   \n",
       "1290                                            NaN   \n",
       "\n",
       "restaurant_id  47566a74-7f4a-48cc-8e8b-1aefcfca6ff0  \\\n",
       "userId                                                \n",
       "256                                             NaN   \n",
       "326                                             NaN   \n",
       "1220                                            NaN   \n",
       "1281                                            NaN   \n",
       "1290                                            NaN   \n",
       "\n",
       "restaurant_id  4c872944-34db-4dce-b725-4b3b4c941943  \\\n",
       "userId                                                \n",
       "256                                             NaN   \n",
       "326                                             NaN   \n",
       "1220                                            NaN   \n",
       "1281                                            NaN   \n",
       "1290                                            NaN   \n",
       "\n",
       "restaurant_id  4f8e488c-cba3-48f2-a1b0-c3104adb8710  \\\n",
       "userId                                                \n",
       "256                                             NaN   \n",
       "326                                             NaN   \n",
       "1220                                            NaN   \n",
       "1281                                            NaN   \n",
       "1290                                            NaN   \n",
       "\n",
       "restaurant_id  51fd086f-22ec-4688-bef9-136a9aa67fa5  \\\n",
       "userId                                                \n",
       "256                                             NaN   \n",
       "326                                             NaN   \n",
       "1220                                            5.0   \n",
       "1281                                            NaN   \n",
       "1290                                            NaN   \n",
       "\n",
       "restaurant_id  7340d575-7000-4dcf-b651-7c7fcb84db2a  \\\n",
       "userId                                                \n",
       "256                                             NaN   \n",
       "326                                             NaN   \n",
       "1220                                            NaN   \n",
       "1281                                            NaN   \n",
       "1290                                            NaN   \n",
       "\n",
       "restaurant_id  7c0e3d24-2e32-4bf9-8035-d83912896a5d  \\\n",
       "userId                                                \n",
       "256                                             NaN   \n",
       "326                                             NaN   \n",
       "1220                                            NaN   \n",
       "1281                                            NaN   \n",
       "1290                                            3.5   \n",
       "\n",
       "restaurant_id  9a7fb283-c645-4c15-8a0d-f6d8e02d511a  \\\n",
       "userId                                                \n",
       "256                                             NaN   \n",
       "326                                             NaN   \n",
       "1220                                            NaN   \n",
       "1281                                            NaN   \n",
       "1290                                            NaN   \n",
       "\n",
       "restaurant_id  a1d32461-3e7c-4158-9cd6-f3cd22a79ca4  \\\n",
       "userId                                                \n",
       "256                                             NaN   \n",
       "326                                             4.0   \n",
       "1220                                            NaN   \n",
       "1281                                            NaN   \n",
       "1290                                            NaN   \n",
       "\n",
       "restaurant_id  a6f9ed8e-bdea-4226-9aaa-c8f2756d1eda  \\\n",
       "userId                                                \n",
       "256                                             NaN   \n",
       "326                                             NaN   \n",
       "1220                                            NaN   \n",
       "1281                                            NaN   \n",
       "1290                                            NaN   \n",
       "\n",
       "restaurant_id  a701267d-e2a8-4732-add7-fdd7b235d7df  \\\n",
       "userId                                                \n",
       "256                                             NaN   \n",
       "326                                             NaN   \n",
       "1220                                            NaN   \n",
       "1281                                            NaN   \n",
       "1290                                            NaN   \n",
       "\n",
       "restaurant_id  b1827b90-186c-4c7d-8853-a7c07cde5129  \\\n",
       "userId                                                \n",
       "256                                             NaN   \n",
       "326                                             NaN   \n",
       "1220                                            NaN   \n",
       "1281                                            NaN   \n",
       "1290                                            NaN   \n",
       "\n",
       "restaurant_id  c0f1a93f-c24c-410a-9437-ba573de83b7b  \\\n",
       "userId                                                \n",
       "256                                             3.0   \n",
       "326                                             NaN   \n",
       "1220                                            NaN   \n",
       "1281                                            NaN   \n",
       "1290                                            NaN   \n",
       "\n",
       "restaurant_id  cc46c000-4ae5-463e-a2ba-9d4217622b88  \\\n",
       "userId                                                \n",
       "256                                             NaN   \n",
       "326                                             NaN   \n",
       "1220                                            NaN   \n",
       "1281                                            NaN   \n",
       "1290                                            NaN   \n",
       "\n",
       "restaurant_id  e150bd06-feb4-4453-9ff0-6f633b4d2dcd  \\\n",
       "userId                                                \n",
       "256                                             NaN   \n",
       "326                                             NaN   \n",
       "1220                                            NaN   \n",
       "1281                                            NaN   \n",
       "1290                                            NaN   \n",
       "\n",
       "restaurant_id  e23816a3-c3ee-476d-8a6f-b76300d94576  \\\n",
       "userId                                                \n",
       "256                                             NaN   \n",
       "326                                             NaN   \n",
       "1220                                            NaN   \n",
       "1281                                            NaN   \n",
       "1290                                            NaN   \n",
       "\n",
       "restaurant_id  e261ec34-1ae9-4d99-a963-62af7f3eaaf0  \\\n",
       "userId                                                \n",
       "256                                             NaN   \n",
       "326                                             NaN   \n",
       "1220                                            NaN   \n",
       "1281                                            NaN   \n",
       "1290                                            NaN   \n",
       "\n",
       "restaurant_id  f0af355c-7a46-4f9f-b103-580b3e455b0e  \\\n",
       "userId                                                \n",
       "256                                             NaN   \n",
       "326                                             NaN   \n",
       "1220                                            NaN   \n",
       "1281                                            NaN   \n",
       "1290                                            NaN   \n",
       "\n",
       "restaurant_id  f4d5566e-0e3b-41ca-b9a7-efc027faa0f3  \n",
       "userId                                               \n",
       "256                                             NaN  \n",
       "326                                             NaN  \n",
       "1220                                            NaN  \n",
       "1281                                            NaN  \n",
       "1290                                            NaN  "
      ]
     },
     "execution_count": 97,
     "metadata": {},
     "output_type": "execute_result"
    }
   ],
   "source": [
    "#create a user-item matrix which can be used to calculate the similarity between users and items.\n",
    "train_rating_matrix = train_data.pivot_table(index='userId', columns='restaurant_id', values='rating')\n",
    "test_rating_matrix = test_data.pivot_table(index='userId', columns='restaurant_id', values='rating')\n",
    "\n",
    "train_rating_matrix.head()\n",
    "\n"
   ]
  },
  {
   "cell_type": "markdown",
   "metadata": {},
   "source": [
    "## Calculate user-user and item-item similarity"
   ]
  },
  {
   "cell_type": "markdown",
   "metadata": {},
   "source": [
    "A distance metric commonly used in recommender systems is cosine similarity, where the ratings are seen as vectors in n-dimensional space and the similarity is calculated based on the angle between these vectors. Cosine similarity for users a and m can be calculated using the formula below, where you take dot product of the user vector uk“>𝑢𝑘uk and the user vector ua“>𝑢𝑎ua and divide it by multiplication of the Euclidean lengths of the vectors."
   ]
  },
  {
   "cell_type": "code",
   "execution_count": 98,
   "metadata": {
    "ExecuteTime": {
     "end_time": "2020-05-30T18:11:28.598436Z",
     "start_time": "2020-05-30T18:11:28.556371Z"
    }
   },
   "outputs": [],
   "source": [
    "#Calculate cosine similarity \n",
    "\n",
    "from sklearn.metrics import pairwise_distances\n",
    "\n",
    "user_similarity = pairwise_distances(train_rating_matrix.fillna(0), metric = 'cosine')\n",
    "item_similarity = pairwise_distances(train_rating_matrix.fillna(0).T, metric = 'cosine')"
   ]
  },
  {
   "cell_type": "markdown",
   "metadata": {},
   "source": [
    "## Make Predictions"
   ]
  },
  {
   "cell_type": "markdown",
   "metadata": {},
   "source": [
    "You can look at the similarity between users k and a as weights that are multiplied by the ratings of a similar user a (corrected for the average rating of that user). You will need to normalize it so that the ratings stay between 1 and 5 and, as a final step, sum the average ratings for the user that you are trying to predict.\n",
    "The idea here is that certain users may tend always to give high or low ratings to all restaurants. The relative difference in the ratings that these users give is more important than the absolute rating values. "
   ]
  },
  {
   "cell_type": "code",
   "execution_count": 99,
   "metadata": {
    "ExecuteTime": {
     "end_time": "2020-05-30T18:20:11.761167Z",
     "start_time": "2020-05-30T18:20:11.755178Z"
    }
   },
   "outputs": [],
   "source": [
    "def predict(ratings, similarity, type='user'):\n",
    "    if type == 'user':\n",
    "        mean_user_rating = ratings.mean(axis=1)\n",
    "        #We use np.newaxis so that mean_user_rating has same format as ratings\n",
    "        ratings_diff = (ratings - mean_user_rating[:, np.newaxis])\n",
    "        pred = mean_user_rating[:, np.newaxis] + similarity.dot(ratings_diff) / np.array([np.abs(similarity).sum(axis=1)]).T\n",
    "    elif type == 'item':\n",
    "        pred = ratings.dot(similarity) / np.array([np.abs(similarity).sum(axis=1)])\n",
    "    return pred"
   ]
  },
  {
   "cell_type": "code",
   "execution_count": 115,
   "metadata": {
    "ExecuteTime": {
     "end_time": "2020-05-30T18:46:38.065568Z",
     "start_time": "2020-05-30T18:46:38.030372Z"
    }
   },
   "outputs": [],
   "source": [
    "user_prediction = predict(train_rating_matrix, user_similarity, type='user')\n",
    "item_prediction = predict(train_rating_matrix, item_similarity, type='item')"
   ]
  },
  {
   "cell_type": "markdown",
   "metadata": {},
   "source": [
    "## Evaluation"
   ]
  },
  {
   "cell_type": "code",
   "execution_count": 116,
   "metadata": {
    "ExecuteTime": {
     "end_time": "2020-05-30T18:46:39.983122Z",
     "start_time": "2020-05-30T18:46:39.976105Z"
    }
   },
   "outputs": [],
   "source": [
    "from sklearn.metrics import mean_squared_error\n",
    "from math import sqrt\n",
    "\n",
    "def rmse(prediction, ground_truth):\n",
    "    prediction = prediction[np.nonzero(ground_truth)].flatten()\n",
    "    ground_truth = ground_truth[np.nonzero(ground_truth)].flatten()\n",
    "    return sqrt(mean_squared_error(prediction, ground_truth))"
   ]
  },
  {
   "cell_type": "markdown",
   "metadata": {
    "ExecuteTime": {
     "end_time": "2020-05-30T18:45:39.303298Z",
     "start_time": "2020-05-30T18:45:39.299293Z"
    }
   },
   "source": [
    "## Discussion"
   ]
  },
  {
   "cell_type": "markdown",
   "metadata": {},
   "source": [
    "This method also called Memory-based algorithms are easy to implement and produce reasonable prediction quality. The drawback of memory-based CF is that it doesn’t scale to real-world scenarios and doesn’t address the well-known cold-start problem, that is when a new user or new item enters the system. Model-based CF methods are scalable and can deal with higher sparsity level than memory-based models, but also suffer when new users or items that don’t have any ratings enter the system."
   ]
  },
  {
   "cell_type": "code",
   "execution_count": null,
   "metadata": {},
   "outputs": [],
   "source": []
  }
 ],
 "metadata": {
  "hide_input": false,
  "kernelspec": {
   "display_name": "Python 3",
   "language": "python",
   "name": "python3"
  },
  "language_info": {
   "codemirror_mode": {
    "name": "ipython",
    "version": 3
   },
   "file_extension": ".py",
   "mimetype": "text/x-python",
   "name": "python",
   "nbconvert_exporter": "python",
   "pygments_lexer": "ipython3",
   "version": "3.7.3"
  },
  "toc": {
   "base_numbering": 1,
   "nav_menu": {},
   "number_sections": true,
   "sideBar": true,
   "skip_h1_title": false,
   "title_cell": "Table of Contents",
   "title_sidebar": "Contents",
   "toc_cell": false,
   "toc_position": {},
   "toc_section_display": true,
   "toc_window_display": false
  },
  "varInspector": {
   "cols": {
    "lenName": 16,
    "lenType": 16,
    "lenVar": 40
   },
   "kernels_config": {
    "python": {
     "delete_cmd_postfix": "",
     "delete_cmd_prefix": "del ",
     "library": "var_list.py",
     "varRefreshCmd": "print(var_dic_list())"
    },
    "r": {
     "delete_cmd_postfix": ") ",
     "delete_cmd_prefix": "rm(",
     "library": "var_list.r",
     "varRefreshCmd": "cat(var_dic_list()) "
    }
   },
   "types_to_exclude": [
    "module",
    "function",
    "builtin_function_or_method",
    "instance",
    "_Feature"
   ],
   "window_display": false
  }
 },
 "nbformat": 4,
 "nbformat_minor": 2
}
